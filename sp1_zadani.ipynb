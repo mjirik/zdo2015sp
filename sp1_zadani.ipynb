{
 "metadata": {
  "name": ""
 },
 "nbformat": 3,
 "nbformat_minor": 0,
 "worksheets": [
  {
   "cells": [
    {
     "cell_type": "heading",
     "level": 1,
     "metadata": {},
     "source": [
      "Zad\u00e1n\u00ed prvn\u00ed semestr\u00e1ln\u00ed pr\u00e1ce"
     ]
    },
    {
     "cell_type": "markdown",
     "metadata": {},
     "source": [
      "C\u00edlem je vytvo\u0159it model pozad\u00ed pro videodata poch\u00e1zej\u00edc\u00ed z mikroskopu. Ten sleduje proud prot\u00e9kaj\u00edc\u00edch kvasinek.\n",
      "V\u00fdstupem va\u0161\u00ed pr\u00e1ce je skript v jazyce python, kter\u00fd bude posouzen automatick\u00fdm vyhodnocen\u00edm. Proto je pot\u0159eba db\u00e1t na p\u0159edepsanou formu. \n",
      "\n",
      "V\u00fdstupem je skupina obrazov\u00fdch soubor\u016f a textov\u00fd soubor ve form\u00e1tu yaml. Jeho struktura mus\u00ed proch\u00e1zet funkc\u00ed\n",
      "`sp1_checker.format_checker()`\n",
      "\n",
      "Uk\u00e1zka obsahu souboru, kter\u00fd vyhovuje po\u017eadovan\u00e9 struktu\u0159e je n\u00e1sleduj\u00edc\u00ed:\n"
     ]
    },
    {
     "cell_type": "raw",
     "metadata": {},
     "source": [
      "data:\n",
      "- {file: f1.png, start: 0, stop: 10}\n",
      "- {file: f2.png, start: 10, stop: 12.5}\n",
      "- {file: f3.png, start: 12.5, stop: 13}\n",
      "name: M. Jirik\n"
     ]
    },
    {
     "cell_type": "markdown",
     "metadata": {},
     "source": [
      "Soubor mus\u00ed spl\u0148ovat n\u00e1sleduj\u00edc\u00ed:\n",
      "\n",
      "* \"name\" - obsahuje jm\u00e9no t\u00fdmu\n",
      "* \"data\" - obsahuje informace o jednotliv\u00fdch souborech, kter\u00e9 tvo\u0159\u00ed model. \n",
      "    * \"file\" - jm\u00e9no souboru\n",
      "    * \"start\" - po\u010d\u00e1tek platnosti tohoto souboru\n",
      "    * \"stop\" - konec platnosti tohoto souboru\n"
     ]
    },
    {
     "cell_type": "heading",
     "level": 2,
     "metadata": {},
     "source": [
      "Generov\u00e1n\u00ed a kontrola dat"
     ]
    },
    {
     "cell_type": "markdown",
     "metadata": {},
     "source": [
      "Vygenerov\u00e1n\u00ed uk\u00e1zkov\u00e9ho v\u00fdstupu vytvo\u0159\u00ed po\u017eadovan\u00e9 soubory na disku"
     ]
    },
    {
     "cell_type": "code",
     "collapsed": false,
     "input": [
      "import sp1_checker as sp1c\n",
      "\n",
      "sp1c.format_generator()\n"
     ],
     "language": "python",
     "metadata": {},
     "outputs": [],
     "prompt_number": 3
    },
    {
     "cell_type": "markdown",
     "metadata": {},
     "source": [
      "Kontrola spr\u00e1vnosti"
     ]
    },
    {
     "cell_type": "code",
     "collapsed": false,
     "input": [
      "sp1c.format_checker()"
     ],
     "language": "python",
     "metadata": {},
     "outputs": [
      {
       "output_type": "stream",
       "stream": "stdout",
       "text": [
        "Format Ok\n"
       ]
      },
      {
       "metadata": {},
       "output_type": "pyout",
       "prompt_number": 5,
       "text": [
        "True"
       ]
      }
     ],
     "prompt_number": 5
    }
   ],
   "metadata": {}
  }
 ]
}